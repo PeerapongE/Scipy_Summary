{
 "cells": [
  {
   "cell_type": "markdown",
   "metadata": {},
   "source": [
    "## 2D interpolation\n",
    "\n",
    "https://docs.scipy.org/doc/scipy/reference/generated/scipy.interpolate.interp2d.html\n",
    "\n"
   ]
  },
  {
   "cell_type": "code",
   "execution_count": 11,
   "metadata": {},
   "outputs": [],
   "source": [
    "import numpy as np\n",
    "import matplotlib.pyplot as plt\n",
    "import scipy"
   ]
  },
  {
   "cell_type": "code",
   "execution_count": 12,
   "metadata": {},
   "outputs": [],
   "source": [
    "from scipy.interpolate import interp2d"
   ]
  },
  {
   "cell_type": "code",
   "execution_count": 13,
   "metadata": {
    "scrolled": false
   },
   "outputs": [
    {
     "data": {
      "text/plain": [
       "array([[-10., -10., 200.],\n",
       "       [-10.,  -8., 164.],\n",
       "       [-10.,  -6., 136.],\n",
       "       [-10.,  -4., 116.],\n",
       "       [-10.,  -2., 104.],\n",
       "       [-10.,   0., 100.],\n",
       "       [-10.,   2., 164.],\n",
       "       [-10.,   4., 128.],\n",
       "       [-10.,   6., 100.],\n",
       "       [-10.,   8.,  80.],\n",
       "       [-10.,  10.,  68.],\n",
       "       [ -8., -10., 164.],\n",
       "       [ -8.,  -8., 128.],\n",
       "       [ -8.,  -6., 100.],\n",
       "       [ -8.,  -4.,  80.],\n",
       "       [ -8.,  -2.,  68.],\n",
       "       [ -8.,   0.,  64.],\n",
       "       [ -8.,   2.,  68.],\n",
       "       [ -8.,   4.,  80.],\n",
       "       [ -8.,   6., 100.],\n",
       "       [ -8.,   8., 128.],\n",
       "       [ -8.,  10., 164.],\n",
       "       [ -6., -10., 136.],\n",
       "       [ -6.,  -8., 100.],\n",
       "       [ -6.,  -6.,  72.],\n",
       "       [ -6.,  -4.,  52.],\n",
       "       [ -6.,  -2.,  40.],\n",
       "       [ -6.,   0.,  36.],\n",
       "       [ -6.,   2.,  40.],\n",
       "       [ -6.,   4.,  52.],\n",
       "       [ -6.,   6.,  72.],\n",
       "       [ -6.,   8., 100.],\n",
       "       [ -6.,  10., 136.],\n",
       "       [ -4., -10., 116.],\n",
       "       [ -4.,  -8.,  80.],\n",
       "       [ -4.,  -6.,  52.],\n",
       "       [ -4.,  -4.,  32.],\n",
       "       [ -4.,  -2.,  20.],\n",
       "       [ -4.,   0.,  16.],\n",
       "       [ -4.,   2.,  20.],\n",
       "       [ -4.,   4.,  32.],\n",
       "       [ -4.,   6.,  52.],\n",
       "       [ -4.,   8.,  80.],\n",
       "       [ -4.,  10., 116.],\n",
       "       [ -2., -10., 104.],\n",
       "       [ -2.,  -8.,  68.],\n",
       "       [ -2.,  -6.,  40.],\n",
       "       [ -2.,  -4.,  20.],\n",
       "       [ -2.,  -2.,   8.],\n",
       "       [ -2.,   0.,   4.],\n",
       "       [ -2.,   2.,   8.],\n",
       "       [ -2.,   4.,  20.],\n",
       "       [ -2.,   6.,  40.],\n",
       "       [ -2.,   8.,  68.],\n",
       "       [ -2.,  10., 104.],\n",
       "       [  0., -10., 100.],\n",
       "       [  0.,  -8.,  64.],\n",
       "       [  0.,  -6.,  36.],\n",
       "       [  0.,  -4.,  16.],\n",
       "       [  0.,  -2.,   4.],\n",
       "       [  0.,   0.,   0.],\n",
       "       [  0.,   2.,   4.],\n",
       "       [  0.,   4.,  16.],\n",
       "       [  0.,   6.,  36.],\n",
       "       [  0.,   8.,  64.],\n",
       "       [  0.,  10., 100.],\n",
       "       [  2., -10., 104.],\n",
       "       [  2.,  -8.,  68.],\n",
       "       [  2.,  -6.,  40.],\n",
       "       [  2.,  -4.,  20.],\n",
       "       [  2.,  -2.,   8.],\n",
       "       [  2.,   0.,   4.],\n",
       "       [  2.,   2.,   8.],\n",
       "       [  2.,   4.,  20.],\n",
       "       [  2.,   6.,  40.],\n",
       "       [  2.,   8.,  68.],\n",
       "       [  2.,  10., 104.],\n",
       "       [  4., -10., 116.],\n",
       "       [  4.,  -8.,  80.],\n",
       "       [  4.,  -6.,  52.],\n",
       "       [  4.,  -4.,  32.],\n",
       "       [  4.,  -2.,  20.],\n",
       "       [  4.,   0.,  16.],\n",
       "       [  4.,   2.,  20.],\n",
       "       [  4.,   4.,  32.],\n",
       "       [  4.,   6.,  52.],\n",
       "       [  4.,   8.,  80.],\n",
       "       [  4.,  10., 116.],\n",
       "       [  6., -10., 136.],\n",
       "       [  6.,  -8., 100.],\n",
       "       [  6.,  -6.,  72.],\n",
       "       [  6.,  -4.,  52.],\n",
       "       [  6.,  -2.,  40.],\n",
       "       [  6.,   0.,  36.],\n",
       "       [  6.,   2.,  40.],\n",
       "       [  6.,   4.,  52.],\n",
       "       [  6.,   6.,  72.],\n",
       "       [  6.,   8., 100.],\n",
       "       [  6.,  10., 136.],\n",
       "       [  8., -10., 164.],\n",
       "       [  8.,  -8., 128.],\n",
       "       [  8.,  -6., 100.],\n",
       "       [  8.,  -4.,  80.],\n",
       "       [  8.,  -2.,  68.],\n",
       "       [  8.,   0.,  64.],\n",
       "       [  8.,   2.,  68.],\n",
       "       [  8.,   4.,  80.],\n",
       "       [  8.,   6., 100.],\n",
       "       [  8.,   8., 128.],\n",
       "       [  8.,  10., 164.],\n",
       "       [ 10., -10., 200.],\n",
       "       [ 10.,  -8., 164.],\n",
       "       [ 10.,  -6., 136.],\n",
       "       [ 10.,  -4., 116.],\n",
       "       [ 10.,  -2., 104.],\n",
       "       [ 10.,   0., 100.],\n",
       "       [ 10.,   2., 104.],\n",
       "       [ 10.,   4., 116.],\n",
       "       [ 10.,   6., 136.],\n",
       "       [ 10.,   8., 164.],\n",
       "       [ 10.,  10., 200.]])"
      ]
     },
     "execution_count": 13,
     "metadata": {},
     "output_type": "execute_result"
    }
   ],
   "source": [
    "# create data (or load data): X1, X2, and Y from your model\n",
    "# z = x^2 + y^2\n",
    "data_interp2d = np.genfromtxt('input_interp2d.csv', delimiter=',', skip_header = 1)\n",
    "data_interp2d"
   ]
  },
  {
   "cell_type": "code",
   "execution_count": 14,
   "metadata": {
    "scrolled": false
   },
   "outputs": [
    {
     "data": {
      "text/plain": [
       "array([[-10., -10.],\n",
       "       [-10.,  -8.],\n",
       "       [-10.,  -6.],\n",
       "       [-10.,  -4.],\n",
       "       [-10.,  -2.],\n",
       "       [-10.,   0.],\n",
       "       [-10.,   2.],\n",
       "       [-10.,   4.],\n",
       "       [-10.,   6.],\n",
       "       [-10.,   8.],\n",
       "       [-10.,  10.],\n",
       "       [ -8., -10.],\n",
       "       [ -8.,  -8.],\n",
       "       [ -8.,  -6.],\n",
       "       [ -8.,  -4.],\n",
       "       [ -8.,  -2.],\n",
       "       [ -8.,   0.],\n",
       "       [ -8.,   2.],\n",
       "       [ -8.,   4.],\n",
       "       [ -8.,   6.],\n",
       "       [ -8.,   8.],\n",
       "       [ -8.,  10.],\n",
       "       [ -6., -10.],\n",
       "       [ -6.,  -8.],\n",
       "       [ -6.,  -6.],\n",
       "       [ -6.,  -4.],\n",
       "       [ -6.,  -2.],\n",
       "       [ -6.,   0.],\n",
       "       [ -6.,   2.],\n",
       "       [ -6.,   4.],\n",
       "       [ -6.,   6.],\n",
       "       [ -6.,   8.],\n",
       "       [ -6.,  10.],\n",
       "       [ -4., -10.],\n",
       "       [ -4.,  -8.],\n",
       "       [ -4.,  -6.],\n",
       "       [ -4.,  -4.],\n",
       "       [ -4.,  -2.],\n",
       "       [ -4.,   0.],\n",
       "       [ -4.,   2.],\n",
       "       [ -4.,   4.],\n",
       "       [ -4.,   6.],\n",
       "       [ -4.,   8.],\n",
       "       [ -4.,  10.],\n",
       "       [ -2., -10.],\n",
       "       [ -2.,  -8.],\n",
       "       [ -2.,  -6.],\n",
       "       [ -2.,  -4.],\n",
       "       [ -2.,  -2.],\n",
       "       [ -2.,   0.],\n",
       "       [ -2.,   2.],\n",
       "       [ -2.,   4.],\n",
       "       [ -2.,   6.],\n",
       "       [ -2.,   8.],\n",
       "       [ -2.,  10.],\n",
       "       [  0., -10.],\n",
       "       [  0.,  -8.],\n",
       "       [  0.,  -6.],\n",
       "       [  0.,  -4.],\n",
       "       [  0.,  -2.],\n",
       "       [  0.,   0.],\n",
       "       [  0.,   2.],\n",
       "       [  0.,   4.],\n",
       "       [  0.,   6.],\n",
       "       [  0.,   8.],\n",
       "       [  0.,  10.],\n",
       "       [  2., -10.],\n",
       "       [  2.,  -8.],\n",
       "       [  2.,  -6.],\n",
       "       [  2.,  -4.],\n",
       "       [  2.,  -2.],\n",
       "       [  2.,   0.],\n",
       "       [  2.,   2.],\n",
       "       [  2.,   4.],\n",
       "       [  2.,   6.],\n",
       "       [  2.,   8.],\n",
       "       [  2.,  10.],\n",
       "       [  4., -10.],\n",
       "       [  4.,  -8.],\n",
       "       [  4.,  -6.],\n",
       "       [  4.,  -4.],\n",
       "       [  4.,  -2.],\n",
       "       [  4.,   0.],\n",
       "       [  4.,   2.],\n",
       "       [  4.,   4.],\n",
       "       [  4.,   6.],\n",
       "       [  4.,   8.],\n",
       "       [  4.,  10.],\n",
       "       [  6., -10.],\n",
       "       [  6.,  -8.],\n",
       "       [  6.,  -6.],\n",
       "       [  6.,  -4.],\n",
       "       [  6.,  -2.],\n",
       "       [  6.,   0.],\n",
       "       [  6.,   2.],\n",
       "       [  6.,   4.],\n",
       "       [  6.,   6.],\n",
       "       [  6.,   8.],\n",
       "       [  6.,  10.],\n",
       "       [  8., -10.],\n",
       "       [  8.,  -8.],\n",
       "       [  8.,  -6.],\n",
       "       [  8.,  -4.],\n",
       "       [  8.,  -2.],\n",
       "       [  8.,   0.],\n",
       "       [  8.,   2.],\n",
       "       [  8.,   4.],\n",
       "       [  8.,   6.],\n",
       "       [  8.,   8.],\n",
       "       [  8.,  10.],\n",
       "       [ 10., -10.],\n",
       "       [ 10.,  -8.],\n",
       "       [ 10.,  -6.],\n",
       "       [ 10.,  -4.],\n",
       "       [ 10.,  -2.],\n",
       "       [ 10.,   0.],\n",
       "       [ 10.,   2.],\n",
       "       [ 10.,   4.],\n",
       "       [ 10.,   6.],\n",
       "       [ 10.,   8.],\n",
       "       [ 10.,  10.]])"
      ]
     },
     "execution_count": 14,
     "metadata": {},
     "output_type": "execute_result"
    }
   ],
   "source": [
    "x_2d = data_interp2d[:,0:2]\n",
    "x_2d"
   ]
  },
  {
   "cell_type": "code",
   "execution_count": 15,
   "metadata": {},
   "outputs": [
    {
     "data": {
      "text/plain": [
       "array([200., 164., 136., 116., 104., 100., 164., 128., 100.,  80.,  68.,\n",
       "       164., 128., 100.,  80.,  68.,  64.,  68.,  80., 100., 128., 164.,\n",
       "       136., 100.,  72.,  52.,  40.,  36.,  40.,  52.,  72., 100., 136.,\n",
       "       116.,  80.,  52.,  32.,  20.,  16.,  20.,  32.,  52.,  80., 116.,\n",
       "       104.,  68.,  40.,  20.,   8.,   4.,   8.,  20.,  40.,  68., 104.,\n",
       "       100.,  64.,  36.,  16.,   4.,   0.,   4.,  16.,  36.,  64., 100.,\n",
       "       104.,  68.,  40.,  20.,   8.,   4.,   8.,  20.,  40.,  68., 104.,\n",
       "       116.,  80.,  52.,  32.,  20.,  16.,  20.,  32.,  52.,  80., 116.,\n",
       "       136., 100.,  72.,  52.,  40.,  36.,  40.,  52.,  72., 100., 136.,\n",
       "       164., 128., 100.,  80.,  68.,  64.,  68.,  80., 100., 128., 164.,\n",
       "       200., 164., 136., 116., 104., 100., 104., 116., 136., 164., 200.])"
      ]
     },
     "execution_count": 15,
     "metadata": {},
     "output_type": "execute_result"
    }
   ],
   "source": [
    "y_2d = data_interp2d[:,2]\n",
    "y_2d"
   ]
  },
  {
   "cell_type": "code",
   "execution_count": 35,
   "metadata": {},
   "outputs": [],
   "source": [
    "# เก็บค่า parameter แต่ละตัวไว้\n",
    "x = data_interp2d[:,0]\n",
    "y = data_interp2d[:,1]\n",
    "z = data_interp2d[:,2]"
   ]
  },
  {
   "cell_type": "code",
   "execution_count": 36,
   "metadata": {},
   "outputs": [
    {
     "data": {
      "text/plain": [
       "array([-10., -10., -10., -10., -10., -10., -10., -10., -10., -10., -10.,\n",
       "        -8.,  -8.,  -8.,  -8.,  -8.,  -8.,  -8.,  -8.,  -8.,  -8.,  -8.,\n",
       "        -6.,  -6.,  -6.,  -6.,  -6.,  -6.,  -6.,  -6.,  -6.,  -6.,  -6.,\n",
       "        -4.,  -4.,  -4.,  -4.,  -4.,  -4.,  -4.,  -4.,  -4.,  -4.,  -4.,\n",
       "        -2.,  -2.,  -2.,  -2.,  -2.,  -2.,  -2.,  -2.,  -2.,  -2.,  -2.,\n",
       "         0.,   0.,   0.,   0.,   0.,   0.,   0.,   0.,   0.,   0.,   0.,\n",
       "         2.,   2.,   2.,   2.,   2.,   2.,   2.,   2.,   2.,   2.,   2.,\n",
       "         4.,   4.,   4.,   4.,   4.,   4.,   4.,   4.,   4.,   4.,   4.,\n",
       "         6.,   6.,   6.,   6.,   6.,   6.,   6.,   6.,   6.,   6.,   6.,\n",
       "         8.,   8.,   8.,   8.,   8.,   8.,   8.,   8.,   8.,   8.,   8.,\n",
       "        10.,  10.,  10.,  10.,  10.,  10.,  10.,  10.,  10.,  10.,  10.])"
      ]
     },
     "execution_count": 36,
     "metadata": {},
     "output_type": "execute_result"
    }
   ],
   "source": [
    "x"
   ]
  },
  {
   "cell_type": "code",
   "execution_count": 50,
   "metadata": {},
   "outputs": [],
   "source": [
    "# create interpolation model\n",
    "interp2d_linear = scipy.interpolate.interp2d(x,\n",
    "                                             y,\n",
    "                                             z, \n",
    "                                             kind='linear') # kind : {‘linear’, ‘cubic’, ‘quintic’}, optional\n"
   ]
  },
  {
   "cell_type": "code",
   "execution_count": 51,
   "metadata": {},
   "outputs": [
    {
     "name": "stdout",
     "output_type": "stream",
     "text": [
      "[200.]\n",
      "[163.20602702]\n"
     ]
    }
   ],
   "source": [
    "# implement various and plot in 3D grid\n",
    "print(interp2d_linear(10,10))\n",
    "print(interp2d_linear(9,-9)) # Actual = 9**2 + 9**2 = 162"
   ]
  },
  {
   "cell_type": "markdown",
   "metadata": {},
   "source": [
    "## 2D Interpolation\n",
    "\n",
    "#### Experimental Example: Running calories"
   ]
  },
  {
   "cell_type": "code",
   "execution_count": 231,
   "metadata": {},
   "outputs": [],
   "source": [
    "data_cal = np.genfromtxt('calories_run.csv', delimiter=',', skip_header = 1)"
   ]
  },
  {
   "cell_type": "code",
   "execution_count": 232,
   "metadata": {},
   "outputs": [
    {
     "data": {
      "text/plain": [
       "array([[  54. ,    8. ,  474. ],\n",
       "       [  54. ,    9.6,  560. ],\n",
       "       [  54. ,   11.2,  629. ],\n",
       "       [  63. ,    8. ,  553. ],\n",
       "       [  63. ,    9.6,  653. ],\n",
       "       [  63. ,   11.2,  733. ],\n",
       "       [  72. ,    8. ,  632. ],\n",
       "       [  72. ,    9.6,  747. ],\n",
       "       [  72. ,   11.2,  838. ],\n",
       "       [  82. ,    8. ,  712. ],\n",
       "       [  82. ,    9.6,  840. ],\n",
       "       [  82. ,   11.2,  943. ],\n",
       "       [  91. ,    8. ,  791. ],\n",
       "       [  91. ,    9.6,  933. ],\n",
       "       [  91. ,   11.2, 1048. ],\n",
       "       [ 100. ,    8. ,  870. ],\n",
       "       [ 100. ,    9.6, 1027. ],\n",
       "       [ 100. ,   11.2, 1153. ]])"
      ]
     },
     "execution_count": 232,
     "metadata": {},
     "output_type": "execute_result"
    }
   ],
   "source": [
    "data_cal"
   ]
  },
  {
   "cell_type": "code",
   "execution_count": 233,
   "metadata": {},
   "outputs": [
    {
     "data": {
      "text/plain": [
       "(18, 3)"
      ]
     },
     "execution_count": 233,
     "metadata": {},
     "output_type": "execute_result"
    }
   ],
   "source": [
    "data_cal.shape"
   ]
  },
  {
   "cell_type": "code",
   "execution_count": 236,
   "metadata": {},
   "outputs": [],
   "source": [
    "weight = data_cal[:,0]\n",
    "speed  = data_cal[:,1]\n",
    "cal    = data_cal[:,2]"
   ]
  },
  {
   "cell_type": "code",
   "execution_count": null,
   "metadata": {},
   "outputs": [],
   "source": []
  },
  {
   "cell_type": "code",
   "execution_count": 237,
   "metadata": {},
   "outputs": [
    {
     "data": {
      "text/plain": [
       "array([ 54.,  54.,  54.,  63.,  63.,  63.,  72.,  72.,  72.,  82.,  82.,\n",
       "        82.,  91.,  91.,  91., 100., 100., 100.])"
      ]
     },
     "execution_count": 237,
     "metadata": {},
     "output_type": "execute_result"
    }
   ],
   "source": [
    "weight"
   ]
  },
  {
   "cell_type": "code",
   "execution_count": 238,
   "metadata": {},
   "outputs": [
    {
     "data": {
      "text/plain": [
       "array([ 8. ,  9.6, 11.2,  8. ,  9.6, 11.2,  8. ,  9.6, 11.2,  8. ,  9.6,\n",
       "       11.2,  8. ,  9.6, 11.2,  8. ,  9.6, 11.2])"
      ]
     },
     "execution_count": 238,
     "metadata": {},
     "output_type": "execute_result"
    }
   ],
   "source": [
    "speed"
   ]
  },
  {
   "cell_type": "code",
   "execution_count": 239,
   "metadata": {},
   "outputs": [
    {
     "data": {
      "text/plain": [
       "array([ 474.,  560.,  629.,  553.,  653.,  733.,  632.,  747.,  838.,\n",
       "        712.,  840.,  943.,  791.,  933., 1048.,  870., 1027., 1153.])"
      ]
     },
     "execution_count": 239,
     "metadata": {},
     "output_type": "execute_result"
    }
   ],
   "source": [
    "cal"
   ]
  },
  {
   "cell_type": "code",
   "execution_count": 240,
   "metadata": {},
   "outputs": [],
   "source": [
    "interp2d_cal = scipy.interpolate.interp2d(weight,\n",
    "                                             speed,\n",
    "                                             cal) # kind : {‘linear’, ‘cubic’, ‘quintic’}, optional"
   ]
  },
  {
   "cell_type": "code",
   "execution_count": 241,
   "metadata": {},
   "outputs": [
    {
     "data": {
      "text/plain": [
       "array([553.])"
      ]
     },
     "execution_count": 241,
     "metadata": {},
     "output_type": "execute_result"
    }
   ],
   "source": [
    "# Input your own weight and running speed\n",
    "\n",
    "interp2d_cal(63,8)"
   ]
  },
  {
   "cell_type": "code",
   "execution_count": 242,
   "metadata": {},
   "outputs": [
    {
     "data": {
      "text/plain": [
       "array([ 8. ,  8.1,  8.2,  8.3,  8.4,  8.5,  8.6,  8.7,  8.8,  8.9,  9. ,\n",
       "        9.1,  9.2,  9.3,  9.4,  9.5,  9.6,  9.7,  9.8,  9.9, 10. , 10.1,\n",
       "       10.2, 10.3, 10.4, 10.5, 10.6, 10.7, 10.8, 10.9])"
      ]
     },
     "execution_count": 242,
     "metadata": {},
     "output_type": "execute_result"
    }
   ],
   "source": [
    "# As Array\n",
    "\n",
    "speed_arr = np.arange(8,11,0.1)\n",
    "speed_arr\n"
   ]
  },
  {
   "cell_type": "code",
   "execution_count": 251,
   "metadata": {},
   "outputs": [
    {
     "data": {
      "text/plain": [
       "array([[553.        ],\n",
       "       [559.25      ],\n",
       "       [565.5       ],\n",
       "       [571.75      ],\n",
       "       [578.        ],\n",
       "       [584.25      ],\n",
       "       [590.5       ],\n",
       "       [596.75      ],\n",
       "       [603.        ],\n",
       "       [609.25      ],\n",
       "       [615.5       ],\n",
       "       [621.75      ],\n",
       "       [628.        ],\n",
       "       [634.25      ],\n",
       "       [640.5       ],\n",
       "       [646.75      ],\n",
       "       [653.        ],\n",
       "       [658.49555059],\n",
       "       [663.46251388],\n",
       "       [668.42947718],\n",
       "       [673.39644047],\n",
       "       [678.36340376],\n",
       "       [683.33036706],\n",
       "       [688.29733035],\n",
       "       [693.26429365],\n",
       "       [698.23125694],\n",
       "       [703.19822024],\n",
       "       [708.16518353],\n",
       "       [713.13214682],\n",
       "       [718.09911012]])"
      ]
     },
     "execution_count": 251,
     "metadata": {},
     "output_type": "execute_result"
    }
   ],
   "source": [
    "calorie_1 = interp2d_cal(63,speed_arr)\n",
    "calorie_1"
   ]
  },
  {
   "cell_type": "code",
   "execution_count": 252,
   "metadata": {},
   "outputs": [
    {
     "data": {
      "text/plain": [
       "array([[696.        ],\n",
       "       [703.8375    ],\n",
       "       [711.675     ],\n",
       "       [719.5125    ],\n",
       "       [727.35      ],\n",
       "       [735.1875    ],\n",
       "       [743.025     ],\n",
       "       [750.8625    ],\n",
       "       [758.7       ],\n",
       "       [766.5375    ],\n",
       "       [774.375     ],\n",
       "       [782.2125    ],\n",
       "       [790.05      ],\n",
       "       [797.8875    ],\n",
       "       [805.725     ],\n",
       "       [813.5625    ],\n",
       "       [821.4       ],\n",
       "       [828.30198273],\n",
       "       [834.54851721],\n",
       "       [840.7950517 ],\n",
       "       [847.04158618],\n",
       "       [853.28812067],\n",
       "       [859.53465515],\n",
       "       [865.78118964],\n",
       "       [872.02772412],\n",
       "       [878.27425861],\n",
       "       [884.52079309],\n",
       "       [890.76732758],\n",
       "       [897.01386206],\n",
       "       [903.26039655]])"
      ]
     },
     "execution_count": 252,
     "metadata": {},
     "output_type": "execute_result"
    }
   ],
   "source": [
    "calorie_2 = interp2d_cal(80,speed_arr)\n",
    "calorie_2"
   ]
  },
  {
   "cell_type": "code",
   "execution_count": 255,
   "metadata": {},
   "outputs": [
    {
     "data": {
      "text/plain": [
       "[<matplotlib.lines.Line2D at 0x1c470a33198>]"
      ]
     },
     "execution_count": 255,
     "metadata": {},
     "output_type": "execute_result"
    },
    {
     "data": {
      "image/png": "[encoded data removed]",
      "text/plain": [
       "<Figure size 432x288 with 1 Axes>"
      ]
     },
     "metadata": {
      "needs_background": "light"
     },
     "output_type": "display_data"
    }
   ],
   "source": [
    "import matplotlib.pyplot as plt\n",
    "\n",
    "plt.plot(speed_arr, calorie_1, '-or')\n",
    "plt.plot(speed_arr, calorie_2, '-ob')"
   ]
  }
 ],
 "metadata": {
  "kernelspec": {
   "display_name": "Python 3",
   "language": "python",
   "name": "python3"
  },
  "language_info": {
   "codemirror_mode": {
    "name": "ipython",
    "version": 3
   },
   "file_extension": ".py",
   "mimetype": "text/x-python",
   "name": "python",
   "nbconvert_exporter": "python",
   "pygments_lexer": "ipython3",
   "version": "3.7.0"
  }
 },
 "nbformat": 4,
 "nbformat_minor": 2
}
