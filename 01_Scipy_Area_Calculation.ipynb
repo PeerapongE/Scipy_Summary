{
 "cells": [
  {
   "cell_type": "code",
   "execution_count": null,
   "metadata": {},
   "outputs": [],
   "source": []
  },
  {
   "cell_type": "markdown",
   "metadata": {},
   "source": [
    "### Reference\n",
    "https://www.scipy-lectures.org/intro/"
   ]
  },
  {
   "cell_type": "code",
   "execution_count": 1,
   "metadata": {},
   "outputs": [],
   "source": [
    "import numpy as np\n",
    "import scipy.integrate"
   ]
  },
  {
   "cell_type": "markdown",
   "metadata": {},
   "source": [
    "#### Exercise: Perform integration of y = x**2\n",
    "\n",
    "<img src = \"Pic_data/Integration_1.png\" width = 500>"
   ]
  },
  {
   "cell_type": "code",
   "execution_count": null,
   "metadata": {},
   "outputs": [],
   "source": []
  },
  {
   "cell_type": "markdown",
   "metadata": {},
   "source": [
    "## Solution\n",
    "<img src = \"Pic_data/Integration_2.png\" width = 200>"
   ]
  },
  {
   "cell_type": "markdown",
   "metadata": {},
   "source": [
    "#### In this Exercise we will perform Integration using approximation method (assume we dont know the real equation)"
   ]
  },
  {
   "cell_type": "code",
   "execution_count": 2,
   "metadata": {},
   "outputs": [
    {
     "data": {
      "text/plain": [
       "array([ 1.,  2.,  3.,  4.,  5.,  6.,  7.,  8.,  9., 10.])"
      ]
     },
     "execution_count": 2,
     "metadata": {},
     "output_type": "execute_result"
    }
   ],
   "source": [
    "# สร้างค่า x ออกมาก่อน\n",
    "x, dx = np.linspace(1, 10, 10, retstep=True)\n",
    "x"
   ]
  },
  {
   "cell_type": "code",
   "execution_count": 64,
   "metadata": {},
   "outputs": [
    {
     "data": {
      "text/plain": [
       "1.0"
      ]
     },
     "execution_count": 64,
     "metadata": {},
     "output_type": "execute_result"
    }
   ],
   "source": [
    "dx"
   ]
  },
  {
   "cell_type": "code",
   "execution_count": 65,
   "metadata": {},
   "outputs": [
    {
     "data": {
      "text/plain": [
       "array([  1.,   4.,   9.,  16.,  25.,  36.,  49.,  64.,  81., 100.])"
      ]
     },
     "execution_count": 65,
     "metadata": {},
     "output_type": "execute_result"
    }
   ],
   "source": [
    "# y = e^x\n",
    "y = x ** 2\n",
    "y"
   ]
  },
  {
   "cell_type": "markdown",
   "metadata": {},
   "source": [
    "##### Simplified calculation of Area under curve (using piecewise calculation) or Riemann sum"
   ]
  },
  {
   "cell_type": "markdown",
   "metadata": {},
   "source": [
    "การคำนวณพื้นที่แบบพื้นฐานที่สุดคือการเอาค่านั้นๆ เสมือนคำนวณ แยกกัน ตามกราฟแท่ง ยิ่งซอยย่อย ยิ่งแม่น\n",
    "\n",
    "<img src = \"pic_data/riemann_1.png\" width = 300>"
   ]
  },
  {
   "cell_type": "code",
   "execution_count": 66,
   "metadata": {},
   "outputs": [
    {
     "data": {
      "text/plain": [
       "385.0"
      ]
     },
     "execution_count": 66,
     "metadata": {},
     "output_type": "execute_result"
    }
   ],
   "source": [
    "# เสมือนเอาแท่งๆ มาคูณกัน\n",
    "AOC_basic = np.sum(y)*dx\n",
    "AOC_basic"
   ]
  },
  {
   "cell_type": "code",
   "execution_count": 78,
   "metadata": {},
   "outputs": [
    {
     "data": {
      "text/plain": [
       "15.615615615615615"
      ]
     },
     "execution_count": 78,
     "metadata": {},
     "output_type": "execute_result"
    }
   ],
   "source": [
    "Error_basic = (AOC_basic - 333) / 333 * 100 # in percentage\n",
    "Error_basic"
   ]
  },
  {
   "cell_type": "markdown",
   "metadata": {},
   "source": [
    "##### Integrate along the given axis using the composite trapezoidal rule."
   ]
  },
  {
   "cell_type": "markdown",
   "metadata": {},
   "source": [
    "การคำนวณพื้นที่ระหว่างจุดของ trapezoid ใช้ Linear line ต่อระหว่างจุด\n",
    "\n",
    "<img src = \"pic_data/trapezoid_1.png\" width = 300>\n"
   ]
  },
  {
   "cell_type": "markdown",
   "metadata": {},
   "source": [
    "สามารถ approximate พื้นที่ใต้กราฟได้ดีกว่าวิธี piecewise\n",
    "\n",
    "<img src = \"pic_data/trapezoid.png\" width = 300>\n",
    "\n"
   ]
  },
  {
   "cell_type": "code",
   "execution_count": 75,
   "metadata": {},
   "outputs": [
    {
     "data": {
      "text/plain": [
       "334.5"
      ]
     },
     "execution_count": 75,
     "metadata": {},
     "output_type": "execute_result"
    }
   ],
   "source": [
    "# What is Trapezoidal rule --> https://en.wikipedia.org/wiki/Trapezoidal_rule\n",
    "# Reference for scipy --> https://docs.scipy.org/doc/scipy/reference/generated/scipy.integrate.trapz.html\n",
    "\n",
    "AOC_trapz = scipy.integrate.trapz(y, x)\n",
    "AOC_trapz"
   ]
  },
  {
   "cell_type": "code",
   "execution_count": 77,
   "metadata": {},
   "outputs": [
    {
     "data": {
      "text/plain": [
       "0.45045045045045046"
      ]
     },
     "execution_count": 77,
     "metadata": {},
     "output_type": "execute_result"
    }
   ],
   "source": [
    "Error_trapz = (AOC_trapz - 333) / 333 * 100 # in percentage\n",
    "Error_trapz"
   ]
  },
  {
   "cell_type": "code",
   "execution_count": 69,
   "metadata": {},
   "outputs": [
    {
     "data": {
      "text/plain": [
       "array([  0. ,   2.5,   9. ,  21.5,  42. ,  72.5, 115. , 171.5, 244. ,\n",
       "       334.5])"
      ]
     },
     "execution_count": 69,
     "metadata": {},
     "output_type": "execute_result"
    }
   ],
   "source": [
    "# Using Cumulative integration (ของแถมที่ scipy ทำไว้ให้)\n",
    "# https://docs.scipy.org/doc/scipy/reference/generated/scipy.integrate.cumtrapz.html#scipy.integrate.cumtrapz\n",
    "AOC_trap_cum = scipy.integrate.cumtrapz(y, x, initial = 0)\n",
    "AOC_trap_cum"
   ]
  },
  {
   "cell_type": "markdown",
   "metadata": {},
   "source": [
    "##### Integrate y(x) using samples along the given axis and the composite Simpson’s rule"
   ]
  },
  {
   "cell_type": "markdown",
   "metadata": {},
   "source": [
    "การคำนวณพื้นที่ระหว่างจุดของ Simpson ใช้ Quadratic Interpolation line ต่อระหว่างจุด\n",
    "\n",
    "<img src = \"pic_data/simpson_1.png\" width = 300>"
   ]
  },
  {
   "cell_type": "markdown",
   "metadata": {},
   "source": [
    "สามารถ approximate พื้นที่ใต้กราฟได้ดีกว่าวิธี trapezoidal (ในกรณีส่วนมากถ้าการซอยย่อย ทำได้ดี ไม่งั้นอาจมี error ได้)\n",
    "\n",
    "<img src = \"pic_data/simpson_2.gif\" width = 300>"
   ]
  },
  {
   "cell_type": "code",
   "execution_count": 80,
   "metadata": {},
   "outputs": [
    {
     "data": {
      "text/plain": [
       "333.16666666666663"
      ]
     },
     "execution_count": 80,
     "metadata": {},
     "output_type": "execute_result"
    }
   ],
   "source": [
    "# What is Simpson's rule --> https://en.wikipedia.org/wiki/Simpson%27s_rule\n",
    "# Reference for scipy --> https://docs.scipy.org/doc/scipy/reference/generated/scipy.integrate.simps.html\n",
    "AOC_simps = scipy.integrate.simps(y, x)\n",
    "AOC_simps"
   ]
  },
  {
   "cell_type": "code",
   "execution_count": 81,
   "metadata": {},
   "outputs": [
    {
     "data": {
      "text/plain": [
       "0.050050050050038666"
      ]
     },
     "execution_count": 81,
     "metadata": {},
     "output_type": "execute_result"
    }
   ],
   "source": [
    "Error_simps = (AOC_simps - 333) / 333 * 100 # in percentage\n",
    "Error_simps"
   ]
  }
 ],
 "metadata": {
  "kernelspec": {
   "display_name": "Python 3",
   "language": "python",
   "name": "python3"
  },
  "language_info": {
   "codemirror_mode": {
    "name": "ipython",
    "version": 3
   },
   "file_extension": ".py",
   "mimetype": "text/x-python",
   "name": "python",
   "nbconvert_exporter": "python",
   "pygments_lexer": "ipython3",
   "version": "3.7.0"
  }
 },
 "nbformat": 4,
 "nbformat_minor": 2
}
