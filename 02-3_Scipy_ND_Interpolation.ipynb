{
 "cells": [
  {
   "cell_type": "markdown",
   "metadata": {},
   "source": [
    "## ND Interpolation\n",
    "\n",
    "#### Experimental Example: Estimated Gas Flowrate\n",
    "\n",
    "https://docs.scipy.org/doc/scipy-0.18.1/reference/generated/scipy.interpolate.interpn.html\n",
    "\n",
    "https://docs.scipy.org/doc/scipy-0.18.1/reference/generated/scipy.interpolate.LinearNDInterpolator.html#scipy.interpolate.LinearNDInterpolator"
   ]
  },
  {
   "cell_type": "code",
   "execution_count": 3,
   "metadata": {},
   "outputs": [],
   "source": [
    "import numpy as np"
   ]
  },
  {
   "cell_type": "code",
   "execution_count": 11,
   "metadata": {},
   "outputs": [],
   "source": [
    "data_gas = np.genfromtxt('gas_flow_trim.csv', delimiter=',', skip_header = 1)"
   ]
  },
  {
   "cell_type": "code",
   "execution_count": 12,
   "metadata": {},
   "outputs": [
    {
     "data": {
      "text/plain": [
       "(3240, 6)"
      ]
     },
     "execution_count": 12,
     "metadata": {},
     "output_type": "execute_result"
    }
   ],
   "source": [
    "data_gas.shape"
   ]
  },
  {
   "cell_type": "code",
   "execution_count": 16,
   "metadata": {},
   "outputs": [
    {
     "data": {
      "text/plain": [
       "array([[ 1., 10.,  1.,  0.,  0.,  0.],\n",
       "       [ 1., 10.,  1.,  0.,  5.,  0.],\n",
       "       [ 1., 10.,  1.,  0., 10.,  0.]])"
      ]
     },
     "execution_count": 16,
     "metadata": {},
     "output_type": "execute_result"
    }
   ],
   "source": [
    "data_gas[0:3,:]"
   ]
  },
  {
   "cell_type": "code",
   "execution_count": 17,
   "metadata": {},
   "outputs": [],
   "source": [
    "from scipy.interpolate import LinearNDInterpolator"
   ]
  },
  {
   "cell_type": "code",
   "execution_count": 19,
   "metadata": {},
   "outputs": [],
   "source": [
    "model = LinearNDInterpolator(data_gas[:,:-1],data_gas[:,-1])\n",
    "\n",
    "# Various model options from\n",
    "# LinearNDI\n",
    "# https://docs.scipy.org/doc/scipy-0.18.1/reference/generated/scipy.interpolate.LinearNDInterpolator.html#scipy.interpolate.LinearNDInterpolator\n",
    "# NearestND\n",
    "# https://docs.scipy.org/doc/scipy-0.18.1/reference/generated/scipy.interpolate.NearestNDInterpolator.html#scipy.interpolate.NearestNDInterpolator\n",
    "# Interpn\n",
    "# https://docs.scipy.org/doc/scipy-0.18.1/reference/generated/scipy.interpolate.interpn.html\n",
    "\n"
   ]
  },
  {
   "cell_type": "code",
   "execution_count": 35,
   "metadata": {},
   "outputs": [],
   "source": [
    "# Input parameter to perform estimation\n",
    "\n",
    "Pressure     = 0.7 # 0.5 to 1 EMW\n",
    "Permeability = 100 # 10 to 3000 md\n",
    "Thickness    = 50  # 1 - 50 meters\n",
    "Inclination  = 30  # 0 to 60\n",
    "WGR          = 10  # 0 to 100 STB/MMscf\n",
    "\n",
    "\n"
   ]
  },
  {
   "cell_type": "code",
   "execution_count": 36,
   "metadata": {},
   "outputs": [
    {
     "name": "stdout",
     "output_type": "stream",
     "text": [
      "gas flow rate = 16.5 MMscf/D\n"
     ]
    }
   ],
   "source": [
    "gasflow = model(Pressure, Permeability, Thickness, Inclination, WGR)\n",
    "gasflow\n",
    "\n",
    "print('gas flow rate = ' + str(gasflow) + ' MMscf/D')"
   ]
  },
  {
   "cell_type": "markdown",
   "metadata": {},
   "source": [
    "# Play around with parameters\n",
    "# Perform uncertainty quantification"
   ]
  },
  {
   "cell_type": "code",
   "execution_count": 78,
   "metadata": {},
   "outputs": [
    {
     "data": {
      "text/plain": [
       "array([ 200.        ,  218.18181818,  236.36363636,  254.54545455,\n",
       "        272.72727273,  290.90909091,  309.09090909,  327.27272727,\n",
       "        345.45454545,  363.63636364,  381.81818182,  400.        ,\n",
       "        418.18181818,  436.36363636,  454.54545455,  472.72727273,\n",
       "        490.90909091,  509.09090909,  527.27272727,  545.45454545,\n",
       "        563.63636364,  581.81818182,  600.        ,  618.18181818,\n",
       "        636.36363636,  654.54545455,  672.72727273,  690.90909091,\n",
       "        709.09090909,  727.27272727,  745.45454545,  763.63636364,\n",
       "        781.81818182,  800.        ,  818.18181818,  836.36363636,\n",
       "        854.54545455,  872.72727273,  890.90909091,  909.09090909,\n",
       "        927.27272727,  945.45454545,  963.63636364,  981.81818182,\n",
       "       1000.        , 1018.18181818, 1036.36363636, 1054.54545455,\n",
       "       1072.72727273, 1090.90909091, 1109.09090909, 1127.27272727,\n",
       "       1145.45454545, 1163.63636364, 1181.81818182, 1200.        ,\n",
       "       1218.18181818, 1236.36363636, 1254.54545455, 1272.72727273,\n",
       "       1290.90909091, 1309.09090909, 1327.27272727, 1345.45454545,\n",
       "       1363.63636364, 1381.81818182, 1400.        , 1418.18181818,\n",
       "       1436.36363636, 1454.54545455, 1472.72727273, 1490.90909091,\n",
       "       1509.09090909, 1527.27272727, 1545.45454545, 1563.63636364,\n",
       "       1581.81818182, 1600.        , 1618.18181818, 1636.36363636,\n",
       "       1654.54545455, 1672.72727273, 1690.90909091, 1709.09090909,\n",
       "       1727.27272727, 1745.45454545, 1763.63636364, 1781.81818182,\n",
       "       1800.        , 1818.18181818, 1836.36363636, 1854.54545455,\n",
       "       1872.72727273, 1890.90909091, 1909.09090909, 1927.27272727,\n",
       "       1945.45454545, 1963.63636364, 1981.81818182, 2000.        ])"
      ]
     },
     "execution_count": 78,
     "metadata": {},
     "output_type": "execute_result"
    }
   ],
   "source": [
    "# Example, we have uncertainly on Permeability\n",
    "\n",
    "Permeability_arr = np.linspace(200, 2000, num=100)\n",
    "Permeability_arr"
   ]
  },
  {
   "cell_type": "code",
   "execution_count": 79,
   "metadata": {},
   "outputs": [
    {
     "data": {
      "text/plain": [
       "array([0.6       , 0.6030303 , 0.60606061, 0.60909091, 0.61212121,\n",
       "       0.61515152, 0.61818182, 0.62121212, 0.62424242, 0.62727273,\n",
       "       0.63030303, 0.63333333, 0.63636364, 0.63939394, 0.64242424,\n",
       "       0.64545455, 0.64848485, 0.65151515, 0.65454545, 0.65757576,\n",
       "       0.66060606, 0.66363636, 0.66666667, 0.66969697, 0.67272727,\n",
       "       0.67575758, 0.67878788, 0.68181818, 0.68484848, 0.68787879,\n",
       "       0.69090909, 0.69393939, 0.6969697 , 0.7       , 0.7030303 ,\n",
       "       0.70606061, 0.70909091, 0.71212121, 0.71515152, 0.71818182,\n",
       "       0.72121212, 0.72424242, 0.72727273, 0.73030303, 0.73333333,\n",
       "       0.73636364, 0.73939394, 0.74242424, 0.74545455, 0.74848485,\n",
       "       0.75151515, 0.75454545, 0.75757576, 0.76060606, 0.76363636,\n",
       "       0.76666667, 0.76969697, 0.77272727, 0.77575758, 0.77878788,\n",
       "       0.78181818, 0.78484848, 0.78787879, 0.79090909, 0.79393939,\n",
       "       0.7969697 , 0.8       , 0.8030303 , 0.80606061, 0.80909091,\n",
       "       0.81212121, 0.81515152, 0.81818182, 0.82121212, 0.82424242,\n",
       "       0.82727273, 0.83030303, 0.83333333, 0.83636364, 0.83939394,\n",
       "       0.84242424, 0.84545455, 0.84848485, 0.85151515, 0.85454545,\n",
       "       0.85757576, 0.86060606, 0.86363636, 0.86666667, 0.86969697,\n",
       "       0.87272727, 0.87575758, 0.87878788, 0.88181818, 0.88484848,\n",
       "       0.88787879, 0.89090909, 0.89393939, 0.8969697 , 0.9       ])"
      ]
     },
     "execution_count": 79,
     "metadata": {},
     "output_type": "execute_result"
    }
   ],
   "source": [
    "Pressure_arr = np.linspace(0.6, 0.9, num=100)\n",
    "Pressure_arr"
   ]
  },
  {
   "cell_type": "code",
   "execution_count": 80,
   "metadata": {},
   "outputs": [],
   "source": [
    "gasflow_sim = []\n",
    "\n",
    "for Pressure_sim in Pressure_arr:\n",
    "    for Perm_sim in Permeability_arr:\n",
    "        output = model(Pressure_sim, Perm_sim, Thickness, Inclination, WGR)\n",
    "        gasflow_sim.append(output)"
   ]
  },
  {
   "cell_type": "code",
   "execution_count": 85,
   "metadata": {},
   "outputs": [
    {
     "data": {
      "text/plain": [
       "10000"
      ]
     },
     "execution_count": 85,
     "metadata": {},
     "output_type": "execute_result"
    }
   ],
   "source": [
    "len(gasflow_sim)"
   ]
  },
  {
   "cell_type": "code",
   "execution_count": 84,
   "metadata": {},
   "outputs": [
    {
     "data": {
      "text/plain": [
       "(array([ 55., 419., 423., 474., 424., 469., 439., 462., 520., 588., 560.,\n",
       "        564., 589., 588., 566., 569., 590., 595., 594., 512.]),\n",
       " array([11.9  , 12.545, 13.19 , 13.835, 14.48 , 15.125, 15.77 , 16.415,\n",
       "        17.06 , 17.705, 18.35 , 18.995, 19.64 , 20.285, 20.93 , 21.575,\n",
       "        22.22 , 22.865, 23.51 , 24.155, 24.8  ]),\n",
       " <a list of 20 Patch objects>)"
      ]
     },
     "execution_count": 84,
     "metadata": {},
     "output_type": "execute_result"
    },
    {
     "data": {
      "image/png": "[encoded data removed]",
      "text/plain": [
       "<Figure size 432x288 with 1 Axes>"
      ]
     },
     "metadata": {
      "needs_background": "light"
     },
     "output_type": "display_data"
    }
   ],
   "source": [
    "plt.hist(gasflow_sim, bins=20)"
   ]
  }
 ],
 "metadata": {
  "kernelspec": {
   "display_name": "Python 3",
   "language": "python",
   "name": "python3"
  },
  "language_info": {
   "codemirror_mode": {
    "name": "ipython",
    "version": 3
   },
   "file_extension": ".py",
   "mimetype": "text/x-python",
   "name": "python",
   "nbconvert_exporter": "python",
   "pygments_lexer": "ipython3",
   "version": "3.7.0"
  }
 },
 "nbformat": 4,
 "nbformat_minor": 2
}
